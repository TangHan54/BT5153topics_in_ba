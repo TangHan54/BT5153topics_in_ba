{
 "cells": [
  {
   "cell_type": "markdown",
   "metadata": {},
   "source": [
    "# spaCy: The Basics\n",
    "\n",
    "![https://images.newrepublic.com/bfddd1f9b55195fa1414bfc55474db6da38ed13b.jpeg?w=1000&q=65&dpi=1&fm=pjpg&h=449](https://images.newrepublic.com/bfddd1f9b55195fa1414bfc55474db6da38ed13b.jpeg?w=1000&q=65&dpi=1&fm=pjpg&h=449)"
   ]
  },
  {
   "cell_type": "markdown",
   "metadata": {},
   "source": [
    "[spaCy](spacy.io) is an industrial-strength natural language processing (NLP) library for Python. spaCy's goal is to take recent advancements in natural language processing out of research papers and put them in the hands of users to build production software.\n",
    "\n",
    "spaCy handles many tasks commonly associated with building an end-to-end natural language processing pipeline:\n",
    "\n",
    "- Tokenization\n",
    "- Text normalization, such as lowercasing, stemming/lemmatization\n",
    "- Part-of-speech tagging\n",
    "- Syntactic dependency parsing\n",
    "- Sentence boundary detection\n",
    "- Named entity recognition and annotation\n",
    "\n",
    "In the \"batteries included\" Python tradition, spaCy contains built-in data and models which you can use out-of-the-box for processing general-purpose English language text:\n",
    "- Large English vocabulary, including stopword lists\n",
    "- Token \"probabilities\"\n",
    "- Word vectors\n",
    "\n",
    "spaCy is written in optimized Cython, which means it's **fast**. According to a few independent sources, it's the fastest syntactic parser available in any language. Key pieces of the spaCy parsing pipeline are written in pure C, enabling efficient multithreading (i.e., spaCy can release the *GIL*)."
   ]
  },
  {
   "cell_type": "markdown",
   "metadata": {},
   "source": [
    "![https://s3.amazonaws.com/skipgram-images/spaCy.png](https://s3.amazonaws.com/skipgram-images/spaCy.png)"
   ]
  },
  {
   "cell_type": "markdown",
   "metadata": {},
   "source": [
    "# Installing spaCy\n",
    "\n",
    "Via **Anaconda** (https://anaconda.org/spacy/spacy):\n",
    "> `conda install -c spacy spacy`\n",
    "\n",
    "or via **pip**\n",
    "> `pip install -U spacy`\n",
    "\n",
    "And you should download the data and models from spacy, here we downlaod the English data:\n",
    "> `python -m spacy download en`\n",
    "\n",
    "Note the download data is about 1G，and it split by two parts: parser and glove word2vec modes, and you can also download them one by one:\n",
    "\n",
    "> `python -m spacy.en.download parser`\n",
    "\n",
    "> `python -m spacy.en.download glove`"
   ]
  },
  {
   "cell_type": "markdown",
   "metadata": {},
   "source": [
    "# Test spaCy"
   ]
  },
  {
   "cell_type": "code",
   "execution_count": 1,
   "metadata": {},
   "outputs": [],
   "source": [
    "import spacy"
   ]
  },
  {
   "cell_type": "code",
   "execution_count": 2,
   "metadata": {},
   "outputs": [],
   "source": [
    "nlp = spacy.load('en')"
   ]
  },
  {
   "cell_type": "code",
   "execution_count": 3,
   "metadata": {},
   "outputs": [
    {
     "data": {
      "text/plain": [
       "<spacy.lang.en.English at 0x11116ac18>"
      ]
     },
     "execution_count": 3,
     "metadata": {},
     "output_type": "execute_result"
    }
   ],
   "source": [
    "nlp"
   ]
  },
  {
   "cell_type": "markdown",
   "metadata": {},
   "source": [
    "### Word Tokenize Test"
   ]
  },
  {
   "cell_type": "code",
   "execution_count": 4,
   "metadata": {},
   "outputs": [
    {
     "data": {
      "text/plain": [
       "this's spacy tokenize test"
      ]
     },
     "execution_count": 4,
     "metadata": {},
     "output_type": "execute_result"
    }
   ],
   "source": [
    "doc1 = nlp(\"this's spacy tokenize test\")\n",
    "doc1"
   ]
  },
  {
   "cell_type": "code",
   "execution_count": 5,
   "metadata": {},
   "outputs": [
    {
     "name": "stdout",
     "output_type": "stream",
     "text": [
      "this\n",
      "'s\n",
      "spacy\n",
      "tokenize\n",
      "test\n"
     ]
    }
   ],
   "source": [
    "for token in doc1:\n",
    "    print(token)"
   ]
  },
  {
   "cell_type": "markdown",
   "metadata": {},
   "source": [
    "### Sentence Tokenize Test or Sentence Segmentation Test"
   ]
  },
  {
   "cell_type": "code",
   "execution_count": 6,
   "metadata": {},
   "outputs": [
    {
     "data": {
      "text/plain": [
       "this is spacy sentence tokenize test. this is second sent! is this the third sent? final test."
      ]
     },
     "execution_count": 6,
     "metadata": {},
     "output_type": "execute_result"
    }
   ],
   "source": [
    "doc2 = nlp(\"this is spacy sentence tokenize test. this is second sent! is this the third sent? final test.\")\n",
    "doc2"
   ]
  },
  {
   "cell_type": "code",
   "execution_count": 7,
   "metadata": {},
   "outputs": [
    {
     "name": "stdout",
     "output_type": "stream",
     "text": [
      "this is spacy sentence tokenize test.\n",
      "this is second sent!\n",
      "is this the third sent? final test.\n"
     ]
    }
   ],
   "source": [
    "for sent in doc2.sents:\n",
    "    print(sent)"
   ]
  },
  {
   "cell_type": "markdown",
   "metadata": {},
   "source": [
    "### Lemmatize Test"
   ]
  },
  {
   "cell_type": "code",
   "execution_count": 8,
   "metadata": {},
   "outputs": [
    {
     "data": {
      "text/plain": [
       "this is spacy lemmatize testing test. programme programming book books are more better than others. mouse mice. goose geese."
      ]
     },
     "execution_count": 8,
     "metadata": {},
     "output_type": "execute_result"
    }
   ],
   "source": [
    "doc3 = nlp(\"this is spacy lemmatize testing test. programme programming book books are more better than others. mouse mice. goose geese.\")\n",
    "doc3"
   ]
  },
  {
   "cell_type": "code",
   "execution_count": 11,
   "metadata": {
    "scrolled": true
   },
   "outputs": [
    {
     "name": "stdout",
     "output_type": "stream",
     "text": [
      "token:             this | token.lemma: 1995909169258310477 | token.lemma_: this\n",
      "token:               is | token.lemma: 10382539506755952630 | token.lemma_: be\n",
      "token:            spacy | token.lemma: 10639093010105930009 | token.lemma_: spacy\n",
      "token:        lemmatize | token.lemma: 4507259281035238268 | token.lemma_: lemmatize\n",
      "token:          testing | token.lemma: 2754665471364627735 | token.lemma_: testing\n",
      "token:             test | token.lemma: 1618900948208871284 | token.lemma_: test\n",
      "token:                . | token.lemma: 12646065887601541794 | token.lemma_: .\n",
      "token:        programme | token.lemma: 16575308216009452163 | token.lemma_: programme\n",
      "token:      programming | token.lemma: 17860067660221736314 | token.lemma_: programming\n",
      "token:             book | token.lemma: 13814433107111459297 | token.lemma_: book\n",
      "token:            books | token.lemma: 13814433107111459297 | token.lemma_: book\n",
      "token:              are | token.lemma: 10382539506755952630 | token.lemma_: be\n",
      "token:             more | token.lemma: 2160362229054775535 | token.lemma_: more\n",
      "token:           better | token.lemma: 5711639017775284443 | token.lemma_: good\n",
      "token:             than | token.lemma: 10794458019344880855 | token.lemma_: than\n",
      "token:           others | token.lemma: 1176656782636220709 | token.lemma_: other\n",
      "token:                . | token.lemma: 12646065887601541794 | token.lemma_: .\n",
      "token:            mouse | token.lemma: 1384165645700560590 | token.lemma_: mouse\n",
      "token:             mice | token.lemma: 1384165645700560590 | token.lemma_: mouse\n",
      "token:                . | token.lemma: 12646065887601541794 | token.lemma_: .\n",
      "token:            goose | token.lemma: 14246840893882729778 | token.lemma_: goose\n",
      "token:            geese | token.lemma: 2847472138331643735 | token.lemma_: geese\n",
      "token:                . | token.lemma: 12646065887601541794 | token.lemma_: .\n"
     ]
    }
   ],
   "source": [
    "for token in doc3:\n",
    "    print('token: %16s | token.lemma: %8s | token.lemma_: %s' % (token, token.lemma, token.lemma_))"
   ]
  },
  {
   "cell_type": "markdown",
   "metadata": {},
   "source": [
    "### Part-of-Speech (POS) Tagging Test"
   ]
  },
  {
   "cell_type": "code",
   "execution_count": 12,
   "metadata": {},
   "outputs": [
    {
     "data": {
      "text/plain": [
       "This is pos tagger test for spacy pos tagger"
      ]
     },
     "execution_count": 12,
     "metadata": {},
     "output_type": "execute_result"
    }
   ],
   "source": [
    "doc4 = nlp(\"This is pos tagger test for spacy pos tagger\")\n",
    "doc4"
   ]
  },
  {
   "cell_type": "code",
   "execution_count": 13,
   "metadata": {},
   "outputs": [
    {
     "name": "stdout",
     "output_type": "stream",
     "text": [
      "token:             This | token.pos:       89 | token.pos_: DET\n",
      "token:               is | token.pos:       99 | token.pos_: VERB\n",
      "token:              pos | token.pos:       91 | token.pos_: NOUN\n",
      "token:           tagger | token.pos:       84 | token.pos_: ADP\n",
      "token:             test | token.pos:       91 | token.pos_: NOUN\n",
      "token:              for | token.pos:       84 | token.pos_: ADP\n",
      "token:            spacy | token.pos:       83 | token.pos_: ADJ\n",
      "token:              pos | token.pos:       91 | token.pos_: NOUN\n",
      "token:           tagger | token.pos:       84 | token.pos_: ADP\n"
     ]
    }
   ],
   "source": [
    "for token in doc4:\n",
    "    print('token: %16s | token.pos: %8s | token.pos_: %s' % (token, token.pos, token.pos_))"
   ]
  },
  {
   "cell_type": "markdown",
   "metadata": {},
   "source": [
    "### Named Entity Recognizer (NER) Test\n",
    "\n",
    "[Entity Types](https://spacy.io/docs/usage/entity-recognition#entity-types)"
   ]
  },
  {
   "cell_type": "code",
   "execution_count": 14,
   "metadata": {},
   "outputs": [
    {
     "data": {
      "text/plain": [
       "Rami Eid is studying at Stony Brook University in New York"
      ]
     },
     "execution_count": 14,
     "metadata": {},
     "output_type": "execute_result"
    }
   ],
   "source": [
    "doc5 = nlp(\"Rami Eid is studying at Stony Brook University in New York\")\n",
    "doc5"
   ]
  },
  {
   "cell_type": "code",
   "execution_count": 15,
   "metadata": {},
   "outputs": [
    {
     "name": "stdout",
     "output_type": "stream",
     "text": [
      "ent:                  Rami Eid | ent.label:      378 | ent.label_: PERSON\n",
      "ent:    Stony Brook University | ent.label:      381 | ent.label_: ORG\n",
      "ent:                  New York | ent.label:      382 | ent.label_: GPE\n"
     ]
    }
   ],
   "source": [
    "for ent in doc5.ents:\n",
    "    print('ent: %25s | ent.label: %8s | ent.label_: %s' % (ent, ent.label, ent.label_))"
   ]
  },
  {
   "cell_type": "markdown",
   "metadata": {},
   "source": [
    "### Noun Chunk Test"
   ]
  },
  {
   "cell_type": "code",
   "execution_count": 16,
   "metadata": {},
   "outputs": [
    {
     "data": {
      "text/plain": [
       "Natural language processing (NLP) deals with the application of computational models to text or speech data."
      ]
     },
     "execution_count": 16,
     "metadata": {},
     "output_type": "execute_result"
    }
   ],
   "source": [
    "doc6 = nlp(\"Natural language processing (NLP) deals with the application of computational models to text or speech data.\")\n",
    "doc6"
   ]
  },
  {
   "cell_type": "code",
   "execution_count": 17,
   "metadata": {},
   "outputs": [
    {
     "name": "stdout",
     "output_type": "stream",
     "text": [
      "Natural language processing\n",
      "the application\n",
      "computational models\n"
     ]
    }
   ],
   "source": [
    "for np in doc6.noun_chunks:\n",
    "    print(np)"
   ]
  },
  {
   "cell_type": "markdown",
   "metadata": {},
   "source": [
    "### Word Vectors Test"
   ]
  },
  {
   "cell_type": "code",
   "execution_count": 19,
   "metadata": {},
   "outputs": [
    {
     "data": {
      "text/plain": [
       "Apples and oranges are similar. Boots and hippos aren't."
      ]
     },
     "execution_count": 19,
     "metadata": {},
     "output_type": "execute_result"
    }
   ],
   "source": [
    "doc7 = nlp(\"Apples and oranges are similar. Boots and hippos aren't.\")\n",
    "doc7"
   ]
  },
  {
   "cell_type": "code",
   "execution_count": 20,
   "metadata": {},
   "outputs": [
    {
     "name": "stdout",
     "output_type": "stream",
     "text": [
      " 0   Apples\n",
      " 1   and\n",
      " 2   oranges\n",
      " 3   are\n",
      " 4   similar\n",
      " 5   .\n",
      " 6   Boots\n",
      " 7   and\n",
      " 8   hippos\n",
      " 9   are\n",
      "10   n't\n",
      "11   .\n"
     ]
    }
   ],
   "source": [
    "for idx, token in enumerate(doc7):\n",
    "    print('%2d   %s' % (idx, token))"
   ]
  },
  {
   "cell_type": "code",
   "execution_count": 21,
   "metadata": {},
   "outputs": [],
   "source": [
    "apples = doc7[0]"
   ]
  },
  {
   "cell_type": "code",
   "execution_count": 22,
   "metadata": {},
   "outputs": [],
   "source": [
    "oranges = doc7[2]"
   ]
  },
  {
   "cell_type": "code",
   "execution_count": 23,
   "metadata": {},
   "outputs": [],
   "source": [
    "boots = doc7[6]"
   ]
  },
  {
   "cell_type": "code",
   "execution_count": 24,
   "metadata": {},
   "outputs": [],
   "source": [
    "hippos = doc7[8]"
   ]
  },
  {
   "cell_type": "code",
   "execution_count": 25,
   "metadata": {},
   "outputs": [
    {
     "data": {
      "text/plain": [
       "array([ 2.62209535e+00,  4.53348541e+00,  2.73631024e+00, -1.44676960e+00,\n",
       "       -1.78943181e+00, -4.94701385e-01, -4.87206429e-01, -2.07457960e-01,\n",
       "        2.55325365e+00,  6.56588197e-01,  5.52632999e+00,  7.77633548e-01,\n",
       "       -1.31507277e+00, -1.71672404e-02,  2.13521814e+00,  1.86355948e-01,\n",
       "        2.29415834e-01,  3.60906553e+00, -1.69442654e+00,  8.47661614e-01,\n",
       "        5.60788488e+00, -3.99183840e-01, -2.38457155e+00,  3.83515167e+00,\n",
       "       -1.25677407e+00, -1.14747286e-01, -1.97907794e+00, -1.75102448e+00,\n",
       "        1.13176930e+00,  2.99043345e+00, -1.65178180e+00, -2.87852287e-01,\n",
       "       -4.17819142e-01,  1.29469633e+00, -1.76598561e+00,  5.18641472e-02,\n",
       "       -3.04122567e+00, -7.75132418e-01, -1.96064007e+00, -4.24332976e-01,\n",
       "        1.63387609e+00, -1.39898014e+00,  2.12681174e+00, -2.61137533e+00,\n",
       "       -1.92623210e+00, -2.16221023e+00,  2.81052804e+00, -5.32454133e-01,\n",
       "        3.10589933e+00, -6.27263606e-01, -1.07765317e+00, -1.74406385e+00,\n",
       "       -2.34957576e+00, -4.07811522e-01,  1.53226578e+00,  1.06539989e+00,\n",
       "        1.04284704e+00, -1.93211079e+00,  5.82738280e-01,  3.67339993e+00,\n",
       "       -1.69455993e+00, -3.00776935e+00, -2.36940980e+00,  1.06792712e+00,\n",
       "       -2.26577461e-01, -6.05138779e-01,  2.88016498e-02, -2.96794415e+00,\n",
       "       -1.00607383e+00, -2.86831832e+00, -2.31306314e-01, -1.52653456e-01,\n",
       "        3.43772578e+00, -9.54211235e-01, -3.84336853e+00,  8.90232503e-01,\n",
       "       -3.35898757e-01,  1.28980386e+00,  1.73465776e+00,  1.27271986e+00,\n",
       "       -3.86695385e-01, -1.37747240e+00, -1.89055276e+00, -2.89772105e+00,\n",
       "       -6.33239746e-02,  4.38811445e+00, -7.28198171e-01,  2.55762744e+00,\n",
       "       -1.82313073e+00,  4.37785685e-01,  6.19549274e-01, -1.97999024e+00,\n",
       "        1.15499198e+00,  2.25838304e+00,  4.53393579e-01,  5.17076015e+00,\n",
       "        3.33608508e-01, -1.91534376e+00,  2.00375915e+00, -4.38531637e+00,\n",
       "       -2.60129881e+00, -2.44328189e+00,  2.06855536e+00, -1.55781198e+00,\n",
       "       -1.14578247e+00, -2.56261349e+00, -1.14110780e+00, -1.02769685e+00,\n",
       "       -1.00959587e+00,  3.25913131e-01, -4.35268223e-01, -1.46817863e-02,\n",
       "        6.01701617e-01, -7.28696823e-01, -1.21616173e+00,  5.60718060e+00,\n",
       "       -2.86064577e+00,  1.58211994e+00, -5.52896857e-01, -1.31391549e+00,\n",
       "        1.32699823e+00, -2.02807140e+00,  1.10404277e+00,  2.72680759e+00,\n",
       "        2.72349501e+00,  1.92920208e-01, -1.17748523e+00, -2.48202181e+00,\n",
       "       -8.05723906e-01,  1.29144263e+00,  2.15556204e-01,  1.20944753e-01,\n",
       "        1.06828094e-01,  4.85455185e-01, -4.66661245e-01, -5.38227022e-01,\n",
       "       -2.28922904e-01,  1.14805028e-01,  5.49647152e-01,  5.16708195e-01,\n",
       "        7.30345726e-01,  6.99815333e-01, -6.63509369e-02,  1.24121547e-01,\n",
       "        7.07038164e-01,  1.29470289e-01, -1.97420403e-01, -3.32545251e-01,\n",
       "        5.16087294e-01,  1.52199581e-01, -4.68560070e-01, -1.32930756e-01,\n",
       "       -1.00384438e+00,  1.12595856e-02,  3.43684882e-01, -4.78840470e-01,\n",
       "       -3.61296088e-01, -5.62496305e-01,  2.46763617e-01,  1.20056957e-01,\n",
       "        1.72486335e-01, -5.96539021e-01,  8.64910483e-02, -5.05916595e-01,\n",
       "        1.27008051e-01, -8.05100024e-01,  5.30303538e-01,  9.38065797e-02,\n",
       "       -8.92186105e-01, -6.29571080e-02,  5.27624339e-02,  9.51936066e-01,\n",
       "        4.65939790e-01,  1.64036036e-01,  7.22503364e-02,  4.68643606e-01,\n",
       "        6.54595137e-01,  7.82593012e-01, -8.46130192e-01,  1.44537866e+00,\n",
       "        9.13439333e-01, -1.33230031e-01, -6.41290426e-01, -2.31885105e-01,\n",
       "       -4.43336338e-01, -2.80131757e-01,  1.56695247e-01, -1.64408535e-01,\n",
       "        2.02131301e-01, -2.63177246e-01,  1.79049373e-01,  4.78546560e-01,\n",
       "        1.45888776e-02, -6.48750514e-02, -1.73146993e-01, -3.31119895e-01,\n",
       "       -3.24075192e-01,  4.80867922e-03, -8.43888342e-01, -2.78443545e-01,\n",
       "        4.67291236e-01, -1.31464854e-01, -3.18863064e-01,  1.80445865e-01,\n",
       "       -4.79386240e-01,  3.79089475e-01,  8.31594169e-01, -3.29020262e-01,\n",
       "       -1.45707524e+00, -7.75238156e-01, -4.60296273e-01, -3.46002132e-01,\n",
       "        3.57918799e-01,  1.21134877e-01, -1.95838705e-01,  5.25175929e-02,\n",
       "       -3.14858645e-01,  4.39978570e-01, -7.35508427e-02, -2.54349887e-01,\n",
       "       -2.67040074e-01, -7.54742861e-01,  1.84285507e-01, -3.38073283e-01,\n",
       "        7.23471940e-01,  7.71139264e-01, -3.42325598e-01, -3.94438863e-01,\n",
       "        3.65717709e-01,  1.94895819e-01,  6.07474864e-01,  1.07757199e+00,\n",
       "        1.79508239e-01, -2.62371153e-01, -5.80212831e-01,  8.38523865e-01,\n",
       "       -5.48601985e-01,  2.25825682e-02,  7.58889467e-02,  6.99464738e-01,\n",
       "       -4.16645229e-01, -3.81254375e-01,  7.92191327e-01,  2.64543295e-01,\n",
       "        1.23215184e-01,  6.03792310e-01, -3.20615053e-01, -2.15046912e-01,\n",
       "       -2.54413307e-01, -8.16044807e-01,  3.34422737e-01,  1.48272038e-01,\n",
       "        6.72446787e-01, -3.21909845e-01,  1.45186543e+00,  1.73043907e-01,\n",
       "       -3.30781937e-01, -3.46855968e-01, -2.77167469e-01,  2.11174339e-02,\n",
       "       -2.55199045e-01, -9.59000230e-01, -5.35401762e-01, -7.43737221e-01,\n",
       "        1.04992084e-01, -7.82202840e-01, -6.52512133e-01,  1.28202122e-02,\n",
       "        1.95383057e-01,  5.96504033e-01, -7.91894943e-02,  1.04397976e+00,\n",
       "        6.65263981e-02,  4.41909909e-01, -9.83457714e-02, -1.63118511e-01,\n",
       "        1.47177503e-01, -1.28836676e-01,  9.77661610e-01,  2.51604319e-01,\n",
       "       -7.02067852e-01,  4.35309708e-01,  9.60440859e-02,  5.14249504e-02,\n",
       "        3.50230604e-01,  2.29336590e-01,  2.55865678e-02, -1.44428313e+00,\n",
       "       -2.33720183e-01, -1.17930867e-01,  5.18232644e-01,  2.64867514e-01,\n",
       "       -4.96767491e-01,  4.86259758e-01, -8.48253518e-02, -4.81914431e-01,\n",
       "       -4.88027275e-01,  3.12987864e-01,  2.05059811e-01, -3.97781610e-01,\n",
       "       -6.92022860e-01, -5.49350530e-02,  2.19829530e-02, -7.38472700e-01,\n",
       "       -1.67611957e-01, -5.13546109e-01, -1.28756747e-01, -7.34738111e-02,\n",
       "        8.06058198e-02, -7.62736797e-02, -3.82720321e-01,  5.17947435e-01,\n",
       "        1.66602284e-01, -1.00570416e+00,  7.92044163e-01, -1.94659233e-01,\n",
       "       -1.51047051e-01,  9.20306444e-01, -6.42131925e-01,  9.15385246e-01,\n",
       "        4.60391462e-01, -2.48371154e-01,  3.60035062e-01,  1.17270783e-01,\n",
       "       -5.40441275e-02,  5.32675624e-01, -5.93535602e-02, -4.53581303e-01,\n",
       "        4.10860270e-01,  2.82234728e-01,  5.87473989e-01,  3.29896748e-01,\n",
       "        4.25524920e-01, -1.96587801e-01,  1.82340637e-01, -3.43141973e-01,\n",
       "        2.65307844e-01,  1.37020648e-01, -5.60958385e-01, -4.61271584e-01,\n",
       "       -4.20415491e-01,  4.43240583e-01,  8.84195983e-01,  2.15118274e-01,\n",
       "        4.42580432e-01, -3.83157820e-01,  3.16466361e-01,  7.67513514e-01,\n",
       "       -1.57916978e-01,  4.25182879e-02, -5.06700277e-02,  6.27401710e-01,\n",
       "       -4.94907618e-01,  1.78801179e-01, -1.12486750e-01, -1.45742536e-01,\n",
       "       -4.75623310e-01, -1.36786073e-01, -5.13604045e-01, -5.19631743e-01,\n",
       "        3.37491989e-01,  1.07512748e+00,  8.33153129e-01,  1.46801263e-01,\n",
       "       -6.38064742e-01,  4.05424118e-01, -2.91576266e-01, -2.87560701e-01,\n",
       "        3.74119878e-01, -4.34021205e-01,  1.66704476e-01, -4.54312973e-02,\n",
       "        1.78068772e-01, -3.17994118e-01,  6.82678521e-01, -3.02995384e-01,\n",
       "        1.05315447e-02,  7.56561011e-02, -1.10650443e-01, -7.08917230e-02,\n",
       "       -2.54627228e-01, -1.32858962e-01, -1.49758995e-01, -3.74874651e-01],\n",
       "      dtype=float32)"
      ]
     },
     "execution_count": 25,
     "metadata": {},
     "output_type": "execute_result"
    }
   ],
   "source": [
    "hippos.vector"
   ]
  },
  {
   "cell_type": "code",
   "execution_count": 22,
   "metadata": {},
   "outputs": [
    {
     "data": {
      "text/plain": [
       "0.0"
      ]
     },
     "execution_count": 22,
     "metadata": {},
     "output_type": "execute_result"
    }
   ],
   "source": [
    "# Find the similarity between \"apples\" and \"oranges\"\n",
    "apples.similarity(oranges)"
   ]
  },
  {
   "cell_type": "code",
   "execution_count": 23,
   "metadata": {},
   "outputs": [
    {
     "data": {
      "text/plain": [
       "0.0"
      ]
     },
     "execution_count": 23,
     "metadata": {},
     "output_type": "execute_result"
    }
   ],
   "source": [
    "# Find the similarity between \"boots\" and \"hippos\"\n",
    "boots.similarity(hippos)"
   ]
  },
  {
   "cell_type": "markdown",
   "metadata": {},
   "source": [
    "# More Resources\n",
    "\n",
    "- [NLTK vs. spaCy: Natural Language Processing in Python](http://blog.thedataincubator.com/2016/04/nltk-vs-spacy-natural-language-processing-in-python/)\n",
    "- [More spaCy Tutorials](https://spacy.io/docs/usage/tutorials)\n",
    "- [Advanced spaCy Stuff on a Million Yelp Reviews](http://nbviewer.jupyter.org/github/skipgram/modern-nlp-in-python/blob/master/executable/Modern_NLP_in_Python.ipynb)"
   ]
  }
 ],
 "metadata": {
  "kernelspec": {
   "display_name": "Python 3",
   "language": "python",
   "name": "python3"
  },
  "language_info": {
   "codemirror_mode": {
    "name": "ipython",
    "version": 3
   },
   "file_extension": ".py",
   "mimetype": "text/x-python",
   "name": "python",
   "nbconvert_exporter": "python",
   "pygments_lexer": "ipython3",
   "version": "3.6.4"
  }
 },
 "nbformat": 4,
 "nbformat_minor": 2
}
